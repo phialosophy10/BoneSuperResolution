{
 "cells": [
  {
   "cell_type": "markdown",
   "id": "2d3a160d",
   "metadata": {},
   "source": [
    "# Interactive bone visualization"
   ]
  },
  {
   "cell_type": "code",
   "execution_count": 1,
   "id": "96f68f91",
   "metadata": {},
   "outputs": [],
   "source": [
    "import os\n",
    "import numpy as np\n",
    "import matplotlib.pyplot as plt\n",
    "from ipywidgets import interact, interactive, widgets\n",
    "%matplotlib inline"
   ]
  },
  {
   "cell_type": "code",
   "execution_count": 2,
   "id": "69685c89",
   "metadata": {},
   "outputs": [],
   "source": [
    "# Help function\n",
    "def get_file_path(folder, res, ext='npy'):\n",
    "    '''\n",
    "    Given folder, resolution and extension returns full file name.\n",
    "    \n",
    "    Parameters\n",
    "        folder: either 'femur_xxx' or 'SP_xx_xx'\n",
    "        res: either 'LR', 'HR', 'SY' or 'MS'\n",
    "        ext: either 'npy' or some other format\n",
    "    '''\n",
    "    if folder.startswith('SP'):\n",
    "        rootdir = '/dtu/3d-imaging-center/projects/2022_QIM_52_Bone/analysis/UCSF_data/'\n",
    "        subdir = {'LR': '/XCT', 'HR': '/mct', 'SY': '/synth', 'MS': '/mask'}\n",
    "        vol = '/vol/'\n",
    "        filename = folder\n",
    "    elif folder.startswith('femur_'):\n",
    "        rootdir = '/dtu/3d-imaging-center/projects/2022_QIM_52_Bone/analysis/'\n",
    "        subdir = {'LR': '/clinical', 'HR': '/micro', 'SY': '/synth', 'MS': '/mask'}\n",
    "        vol = '/volume/'\n",
    "        filename = f'f_{folder[-3:]}'\n",
    "    else:\n",
    "        return\n",
    "    \n",
    "    filepath = rootdir + folder + subdir[res] + vol + filename + '.' + ext\n",
    "    \n",
    "    return filepath\n",
    "    "
   ]
  },
  {
   "cell_type": "code",
   "execution_count": 3,
   "id": "b9993587",
   "metadata": {},
   "outputs": [
    {
     "name": "stdout",
     "output_type": "stream",
     "text": [
      "['femur_031', 'femur_164', 'femur_172', 'femur_001', 'femur_083', 'femur_015', 'femur_021', 'femur_086', 'femur_138', 'femur_002', 'femur_075', 'femur_026', 'femur_013', 'femur_074', 'SP03-05', 'SP02-01', 'SP04-04', 'SP05-05', 'SP02-04', 'SP05-02', 'SP05-04', 'SP04-02', 'SP05-01', 'SP05-03', 'SP03-04', 'SP03-02', 'SP03-03', 'SP04-05', 'SP03-01', 'SP02-02', 'SP04-03', 'SP04-01', 'SP02-05', 'SP02-03']\n"
     ]
    }
   ],
   "source": [
    "# Get hold of all files\n",
    "rootdir = '/dtu/3d-imaging-center/projects/2022_QIM_52_Bone/analysis'\n",
    "ucsf = '/UCSF_data'\n",
    "dtu_datadirs = [f for f in os.listdir(rootdir) if f.startswith('femur_')]\n",
    "ucsf_datadirs = [f for f in os.listdir(rootdir + ucsf) if f.startswith('SP')]\n",
    "folders = dtu_datadirs + ucsf_datadirs\n",
    "print(folders)\n"
   ]
  },
  {
   "cell_type": "code",
   "execution_count": 8,
   "id": "5e43c822",
   "metadata": {},
   "outputs": [
    {
     "data": {
      "application/vnd.jupyter.widget-view+json": {
       "model_id": "815b92d275c849b38aac714a0a794e24",
       "version_major": 2,
       "version_minor": 0
      },
      "text/plain": [
       "interactive(children=(IntSlider(value=526, continuous_update=False, description='slice', max=1051), Output()),…"
      ]
     },
     "metadata": {},
     "output_type": "display_data"
    }
   ],
   "source": [
    "# Slicing single volume\n",
    "\n",
    "def slice_vol(folder, r, figsize=(10, 10), options=dict()):\n",
    "\n",
    "    filepath = get_file_path(folder, r)\n",
    "    vol = np.load(filepath, mmap_mode='r')\n",
    "    Z = vol.shape[0]\n",
    "\n",
    "    def update(z):\n",
    "        f = plt.figure(figsize=figsize, num=0)\n",
    "        im = vol[z]\n",
    "        plt.imshow(im.T, **options)\n",
    "        plt.title(f'{z}/{Z}')\n",
    "\n",
    "    z = widgets.IntSlider(min=0, max=Z - 1, step=1, value=Z // 2, description='slice', continuous_update=False)\n",
    "    interact(update, z=z);    \n",
    "\n",
    "slice_vol('SP02-05', 'LR', options=dict(cmap='gray', vmin=0, vmax=1))\n"
   ]
  },
  {
   "cell_type": "code",
   "execution_count": 9,
   "id": "47dea678",
   "metadata": {},
   "outputs": [
    {
     "data": {
      "application/vnd.jupyter.widget-view+json": {
       "model_id": "a018ebae6f7d4d5ea8122b0c8683cba1",
       "version_major": 2,
       "version_minor": 0
      },
      "text/plain": [
       "interactive(children=(IntSlider(value=641, continuous_update=False, description='slice', max=1281), Output()),…"
      ]
     },
     "metadata": {},
     "output_type": "display_data"
    }
   ],
   "source": [
    "# Slicing all volumes\n",
    "\n",
    "def slice_vols(folder, figsize=(10, 10), options=dict()):\n",
    "    \n",
    "    res = ['LR', 'HR', 'SY', 'MS']\n",
    "    vol = {}\n",
    "    dim = {}\n",
    "    for r in res:\n",
    "        filepath = get_file_path(folder, r)\n",
    "        vol[r] = np.load(filepath, mmap_mode='r')\n",
    "        dim[r] = vol[r].shape\n",
    "    if (dim['LR']==dim['HR']==dim['SY']==dim['MS']):\n",
    "        Z = dim['LR'][0]\n",
    "\n",
    "    def update(z):\n",
    "        fig, ax = plt.subplots(2, 2, figsize=figsize, num=0)\n",
    "        for a, r in zip(ax.ravel(), res):\n",
    "            im = vol[r][z]\n",
    "            a.imshow(im.T, **options)\n",
    "            a.set_title(r)\n",
    "        fig.suptitle(f'{z}/{Z}')\n",
    "\n",
    "    z = widgets.IntSlider(min=0, max=Z - 1, step=1, value=Z // 2, description='slice', continuous_update=False)\n",
    "    interact(update, z=z);    \n",
    "\n",
    "        \n",
    "slice_vols('SP04-03', options=dict(cmap='gray'))"
   ]
  }
 ],
 "metadata": {
  "kernelspec": {
   "display_name": "Python 3 (ipykernel)",
   "language": "python",
   "name": "python3"
  },
  "language_info": {
   "codemirror_mode": {
    "name": "ipython",
    "version": 3
   },
   "file_extension": ".py",
   "mimetype": "text/x-python",
   "name": "python",
   "nbconvert_exporter": "python",
   "pygments_lexer": "ipython3",
   "version": "3.11.5"
  }
 },
 "nbformat": 4,
 "nbformat_minor": 5
}
